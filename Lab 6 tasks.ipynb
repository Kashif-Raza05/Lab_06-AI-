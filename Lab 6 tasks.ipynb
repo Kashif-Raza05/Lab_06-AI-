{
 "cells": [
  {
   "cell_type": "code",
   "execution_count": 2,
   "id": "09d82fae-3aee-406e-884f-8695cd6aa24b",
   "metadata": {},
   "outputs": [
    {
     "ename": "TypeError",
     "evalue": "association_rules() missing 1 required positional argument: 'num_itemsets'",
     "output_type": "error",
     "traceback": [
      "\u001b[1;31m---------------------------------------------------------------------------\u001b[0m",
      "\u001b[1;31mTypeError\u001b[0m                                 Traceback (most recent call last)",
      "Cell \u001b[1;32mIn[2], line 36\u001b[0m\n\u001b[0;32m     34\u001b[0m \u001b[38;5;66;03m# Step 2: Apply the Apriori Algorithm\u001b[39;00m\n\u001b[0;32m     35\u001b[0m frequent_itemsets \u001b[38;5;241m=\u001b[39m apriori(transaction_df, min_support\u001b[38;5;241m=\u001b[39m\u001b[38;5;241m0.3\u001b[39m, use_colnames\u001b[38;5;241m=\u001b[39m\u001b[38;5;28;01mTrue\u001b[39;00m)\n\u001b[1;32m---> 36\u001b[0m rules \u001b[38;5;241m=\u001b[39m association_rules(frequent_itemsets, metric\u001b[38;5;241m=\u001b[39m\u001b[38;5;124m\"\u001b[39m\u001b[38;5;124mconfidence\u001b[39m\u001b[38;5;124m\"\u001b[39m, min_threshold\u001b[38;5;241m=\u001b[39m\u001b[38;5;241m0.6\u001b[39m)\n\u001b[0;32m     38\u001b[0m \u001b[38;5;66;03m# Step 3: Display Results\u001b[39;00m\n\u001b[0;32m     39\u001b[0m \u001b[38;5;28mprint\u001b[39m(\u001b[38;5;124m\"\u001b[39m\u001b[38;5;124mFrequent Itemsets:\u001b[39m\u001b[38;5;124m\"\u001b[39m)\n",
      "\u001b[1;31mTypeError\u001b[0m: association_rules() missing 1 required positional argument: 'num_itemsets'"
     ]
    }
   ],
   "source": [
    "# Import necessary libraries\n",
    "import pandas as pd\n",
    "from mlxtend.frequent_patterns import apriori\n",
    "from mlxtend.frequent_patterns import association_rules\n",
    "\n",
    "# Sample dataset\n",
    "data = {\n",
    "    'Age': [25, 32, 47, 51, 23, 42, 36, 28, 30, 45],\n",
    "    'Annual Income (in $1000s)': [50, 60, 85, 45, 35, 95, 40, 75, 55, 65],\n",
    "    'Gender': [0, 1, 0, 0, 1, 1, 0, 1, 0, 1],  # 0 = Male, 1 = Female\n",
    "    'Purchased': [0, 1, 1, 0, 0, 1, 0, 1, 0, 1]  # 0 = No, 1 = Yes\n",
    "}\n",
    "\n",
    "# Create DataFrame\n",
    "df = pd.DataFrame(data)\n",
    "\n",
    "# Step 1: Binarize the dataset for Apriori (discretize into ranges for age and income)\n",
    "df['Age_Young'] = df['Age'].apply(lambda x: 1 if x < 35 else 0)\n",
    "df['Age_Middle'] = df['Age'].apply(lambda x: 1 if 35 <= x <= 50 else 0)\n",
    "df['Age_Senior'] = df['Age'].apply(lambda x: 1 if x > 50 else 0)\n",
    "df['Income_Low'] = df['Annual Income (in $1000s)'].apply(lambda x: 1 if x < 50 else 0)\n",
    "df['Income_Medium'] = df['Annual Income (in $1000s)'].apply(lambda x: 1 if 50 <= x <= 75 else 0)\n",
    "df['Income_High'] = df['Annual Income (in $1000s)'].apply(lambda x: 1 if x > 75 else 0)\n",
    "\n",
    "# Drop original columns\n",
    "df = df.drop(['Age', 'Annual Income (in $1000s)'], axis=1)\n",
    "\n",
    "# Rename 'Gender' and 'Purchased' for clarity\n",
    "df = df.rename(columns={'Gender': 'Gender_Female', 'Purchased': 'Purchased_Yes'})\n",
    "\n",
    "# Convert the dataset into a transactional format by ensuring all columns are binary\n",
    "transaction_df = df.astype(bool)\n",
    "\n",
    "# Step 2: Apply the Apriori Algorithm\n",
    "frequent_itemsets = apriori(transaction_df, min_support=0.3, use_colnames=True)\n",
    "rules = association_rules(frequent_itemsets, metric=\"confidence\", min_threshold=0.6)\n",
    "\n",
    "# Step 3: Display Results\n",
    "print(\"Frequent Itemsets:\")\n",
    "display(frequent_itemsets)\n",
    "\n",
    "print(\"\\nAssociation Rules:\")\n",
    "display(rules)\n"
   ]
  },
  {
   "cell_type": "code",
   "execution_count": 3,
   "id": "24f630be-376d-4fba-8d22-ec8a7e202fdc",
   "metadata": {},
   "outputs": [
    {
     "ename": "TypeError",
     "evalue": "association_rules() missing 1 required positional argument: 'num_itemsets'",
     "output_type": "error",
     "traceback": [
      "\u001b[1;31m---------------------------------------------------------------------------\u001b[0m",
      "\u001b[1;31mTypeError\u001b[0m                                 Traceback (most recent call last)",
      "Cell \u001b[1;32mIn[3], line 36\u001b[0m\n\u001b[0;32m     34\u001b[0m \u001b[38;5;66;03m# Step 2: Apply the Apriori Algorithm\u001b[39;00m\n\u001b[0;32m     35\u001b[0m frequent_itemsets \u001b[38;5;241m=\u001b[39m apriori(transaction_df, min_support\u001b[38;5;241m=\u001b[39m\u001b[38;5;241m0.3\u001b[39m, use_colnames\u001b[38;5;241m=\u001b[39m\u001b[38;5;28;01mTrue\u001b[39;00m)\n\u001b[1;32m---> 36\u001b[0m rules \u001b[38;5;241m=\u001b[39m association_rules(frequent_itemsets, metric\u001b[38;5;241m=\u001b[39m\u001b[38;5;124m\"\u001b[39m\u001b[38;5;124mconfidence\u001b[39m\u001b[38;5;124m\"\u001b[39m, min_threshold\u001b[38;5;241m=\u001b[39m\u001b[38;5;241m0.6\u001b[39m)\n\u001b[0;32m     38\u001b[0m \u001b[38;5;66;03m# Step 3: Display Results\u001b[39;00m\n\u001b[0;32m     39\u001b[0m \u001b[38;5;28mprint\u001b[39m(\u001b[38;5;124m\"\u001b[39m\u001b[38;5;124mFrequent Itemsets:\u001b[39m\u001b[38;5;124m\"\u001b[39m)\n",
      "\u001b[1;31mTypeError\u001b[0m: association_rules() missing 1 required positional argument: 'num_itemsets'"
     ]
    }
   ],
   "source": [
    "# Import necessary libraries\n",
    "import pandas as pd\n",
    "from mlxtend.frequent_patterns import apriori\n",
    "from mlxtend.frequent_patterns import association_rules\n",
    "\n",
    "# Sample dataset\n",
    "data = {\n",
    "    'Age': [25, 32, 47, 51, 23, 42, 36, 28, 30, 45],\n",
    "    'Annual Income (in $1000s)': [50, 60, 85, 45, 35, 95, 40, 75, 55, 65],\n",
    "    'Gender': [0, 1, 0, 0, 1, 1, 0, 1, 0, 1],  # 0 = Male, 1 = Female\n",
    "    'Purchased': [0, 1, 1, 0, 0, 1, 0, 1, 0, 1]  # 0 = No, 1 = Yes\n",
    "}\n",
    "\n",
    "# Create DataFrame\n",
    "df = pd.DataFrame(data)\n",
    "\n",
    "# Step 1: Binarize the dataset for Apriori (discretize into ranges for age and income)\n",
    "df['Age_Young'] = df['Age'].apply(lambda x: 1 if x < 35 else 0)\n",
    "df['Age_Middle'] = df['Age'].apply(lambda x: 1 if 35 <= x <= 50 else 0)\n",
    "df['Age_Senior'] = df['Age'].apply(lambda x: 1 if x > 50 else 0)\n",
    "df['Income_Low'] = df['Annual Income (in $1000s)'].apply(lambda x: 1 if x < 50 else 0)\n",
    "df['Income_Medium'] = df['Annual Income (in $1000s)'].apply(lambda x: 1 if 50 <= x <= 75 else 0)\n",
    "df['Income_High'] = df['Annual Income (in $1000s)'].apply(lambda x: 1 if x > 75 else 0)\n",
    "\n",
    "# Drop original columns\n",
    "df = df.drop(['Age', 'Annual Income (in $1000s)'], axis=1)\n",
    "\n",
    "# Rename 'Gender' and 'Purchased' for clarity\n",
    "df = df.rename(columns={'Gender': 'Gender_Female', 'Purchased': 'Purchased_Yes'})\n",
    "\n",
    "# Convert the dataset into a transactional format by ensuring all columns are binary\n",
    "transaction_df = df.astype(bool)\n",
    "\n",
    "# Step 2: Apply the Apriori Algorithm\n",
    "frequent_itemsets = apriori(transaction_df, min_support=0.3, use_colnames=True)\n",
    "rules = association_rules(frequent_itemsets, metric=\"confidence\", min_threshold=0.6)\n",
    "\n",
    "# Step 3: Display Results\n",
    "print(\"Frequent Itemsets:\")\n",
    "display(frequent_itemsets)\n",
    "\n",
    "print(\"\\nAssociation Rules:\")\n",
    "display(rules)\n"
   ]
  },
  {
   "cell_type": "code",
   "execution_count": 4,
   "id": "1e447510-5e32-4bf1-9479-2f11874fb277",
   "metadata": {},
   "outputs": [
    {
     "name": "stderr",
     "output_type": "stream",
     "text": [
      "C:\\Users\\DELL\\anaconda3\\Lib\\site-packages\\sklearn\\cluster\\_kmeans.py:1429: UserWarning: KMeans is known to have a memory leak on Windows with MKL, when there are less chunks than available threads. You can avoid it by setting the environment variable OMP_NUM_THREADS=1.\n",
      "  warnings.warn(\n"
     ]
    },
    {
     "name": "stdout",
     "output_type": "stream",
     "text": [
      "Clustered Data:\n",
      "   Age  Annual Income (in $1000s)  Gender  Purchased  Cluster\n",
      "0   25                         50       0          0        2\n",
      "1   32                         60       1          1        1\n",
      "2   47                         85       0          1        1\n",
      "3   51                         45       0          0        0\n",
      "4   23                         35       1          0        2\n",
      "5   42                         95       1          1        1\n",
      "6   36                         40       0          0        2\n",
      "7   28                         75       1          1        1\n",
      "8   30                         55       0          0        2\n",
      "9   45                         65       1          1        1\n"
     ]
    },
    {
     "data": {
      "image/png": "[encoded data removed]",
      "text/plain": [
       "<Figure size 800x600 with 2 Axes>"
      ]
     },
     "metadata": {},
     "output_type": "display_data"
    }
   ],
   "source": [
    "# Import necessary libraries\n",
    "import pandas as pd\n",
    "import matplotlib.pyplot as plt\n",
    "from sklearn.cluster import KMeans\n",
    "from sklearn.preprocessing import StandardScaler\n",
    "\n",
    "# Input dataset\n",
    "data = {\n",
    "    'Age': [25, 32, 47, 51, 23, 42, 36, 28, 30, 45],\n",
    "    'Annual Income (in $1000s)': [50, 60, 85, 45, 35, 95, 40, 75, 55, 65],\n",
    "    'Gender': [0, 1, 0, 0, 1, 1, 0, 1, 0, 1],  # 0 = Male, 1 = Female\n",
    "    'Purchased': [0, 1, 1, 0, 0, 1, 0, 1, 0, 1]  # 0 = No, 1 = Yes\n",
    "}\n",
    "\n",
    "# Create DataFrame\n",
    "df = pd.DataFrame(data)\n",
    "\n",
    "# Select features for clustering\n",
    "features = df[['Age', 'Annual Income (in $1000s)', 'Gender', 'Purchased']]\n",
    "\n",
    "# Standardize the features for better clustering performance\n",
    "scaler = StandardScaler()\n",
    "scaled_features = scaler.fit_transform(features)\n",
    "\n",
    "# Apply K-Means Clustering\n",
    "kmeans = KMeans(n_clusters=3, random_state=42)  # 3 clusters\n",
    "df['Cluster'] = kmeans.fit_predict(scaled_features)\n",
    "\n",
    "# Display clustered data\n",
    "print(\"Clustered Data:\")\n",
    "print(df)\n",
    "\n",
    "# Visualize the clusters (using the first two features for simplicity)\n",
    "plt.figure(figsize=(8, 6))\n",
    "plt.scatter(df['Age'], df['Annual Income (in $1000s)'], c=df['Cluster'], cmap='viridis')\n",
    "plt.title('K-Means Clustering')\n",
    "plt.xlabel('Age')\n",
    "plt.ylabel('Annual Income (in $1000s)')\n",
    "plt.colorbar(label='Cluster')\n",
    "plt.grid()\n",
    "plt.show()\n"
   ]
  },
  {
   "cell_type": "code",
   "execution_count": null,
   "id": "7d9ee0ab-2013-4add-94b3-ff251c9beaf3",
   "metadata": {},
   "outputs": [],
   "source": []
  },
  {
   "cell_type": "code",
   "execution_count": null,
   "id": "24d9e1c1-0d93-4b22-aa66-241154fac16a",
   "metadata": {},
   "outputs": [],
   "source": []
  }
 ],
 "metadata": {
  "kernelspec": {
   "display_name": "Python 3 (ipykernel)",
   "language": "python",
   "name": "python3"
  },
  "language_info": {
   "codemirror_mode": {
    "name": "ipython",
    "version": 3
   },
   "file_extension": ".py",
   "mimetype": "text/x-python",
   "name": "python",
   "nbconvert_exporter": "python",
   "pygments_lexer": "ipython3",
   "version": "3.11.7"
  }
 },
 "nbformat": 4,
 "nbformat_minor": 5
}
